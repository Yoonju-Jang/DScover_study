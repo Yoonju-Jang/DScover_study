{
 "cells": [
  {
   "cell_type": "code",
   "execution_count": 2,
   "id": "d1276803",
   "metadata": {},
   "outputs": [
    {
     "name": "stdout",
     "output_type": "stream",
     "text": [
      "Collecting pandas\n",
      "  Downloading pandas-1.5.0-cp310-cp310-win_amd64.whl (10.4 MB)\n",
      "     --------------------------------------- 10.4/10.4 MB 19.9 MB/s eta 0:00:00\n",
      "Collecting numpy>=1.21.0\n",
      "  Downloading numpy-1.23.3-cp310-cp310-win_amd64.whl (14.6 MB)\n",
      "     --------------------------------------- 14.6/14.6 MB 27.3 MB/s eta 0:00:00\n",
      "Collecting pytz>=2020.1\n",
      "  Downloading pytz-2022.2.1-py2.py3-none-any.whl (500 kB)\n",
      "     ------------------------------------- 500.6/500.6 kB 32.7 MB/s eta 0:00:00\n",
      "Requirement already satisfied: python-dateutil>=2.8.1 in d:\\python\\lib\\site-packages (from pandas) (2.8.2)\n",
      "Requirement already satisfied: six>=1.5 in d:\\python\\lib\\site-packages (from python-dateutil>=2.8.1->pandas) (1.16.0)\n",
      "Installing collected packages: pytz, numpy, pandas\n",
      "Successfully installed numpy-1.23.3 pandas-1.5.0 pytz-2022.2.1\n"
     ]
    }
   ],
   "source": [
    "! pip install pandas"
   ]
  },
  {
   "cell_type": "code",
   "execution_count": 4,
   "id": "a9d3e4a4",
   "metadata": {},
   "outputs": [],
   "source": [
    "import requests as req\n",
    "from bs4 import BeautifulSoup as bs\n",
    "import pandas as pd"
   ]
  },
  {
   "cell_type": "code",
   "execution_count": 14,
   "id": "5f43398a",
   "metadata": {},
   "outputs": [],
   "source": [
    "# 1. 벅스차트 정보를 요청\n",
    "res = req.get(\"https://music.bugs.co.kr/chart\")\n",
    "res.text"
   ]
  },
  {
   "cell_type": "code",
   "execution_count": 16,
   "id": "4aff0403",
   "metadata": {},
   "outputs": [],
   "source": [
    "# 2. 넘겨받은 데이터가 문자 형태이기 때문에 컴퓨터가 알아먹을 수 있는 언어로 변형\n",
    "soup = bs(res.text,\"lxml\")"
   ]
  },
  {
   "cell_type": "code",
   "execution_count": 20,
   "id": "fd44f71d",
   "metadata": {},
   "outputs": [],
   "source": [
    "# 3. 순위, 곡명, 가수명 수집\n",
    "# 내가 원하는 요소가 한 개의 구분자로 발견되지 않는다면, 바로 위에 있는 부모태그를 검사해보자!\n",
    "rank = soup.select(\"div.ranking > strong\")"
   ]
  },
  {
   "cell_type": "code",
   "execution_count": 22,
   "id": "ab0848a8",
   "metadata": {},
   "outputs": [],
   "source": [
    "title = soup.select(\"p.title > a\")"
   ]
  },
  {
   "cell_type": "code",
   "execution_count": 31,
   "id": "a6d48b4b",
   "metadata": {},
   "outputs": [],
   "source": [
    "singer = soup.select(\"p.artist > a\")"
   ]
  },
  {
   "cell_type": "code",
   "execution_count": 26,
   "id": "c22d19b8",
   "metadata": {},
   "outputs": [
    {
     "data": {
      "text/plain": [
       "100"
      ]
     },
     "execution_count": 26,
     "metadata": {},
     "output_type": "execute_result"
    }
   ],
   "source": [
    "# 개수가 정해진 데이터는 꼭 데이터의 개수 체크 !\n",
    "len(rank)"
   ]
  },
  {
   "cell_type": "code",
   "execution_count": 28,
   "id": "04e514df",
   "metadata": {},
   "outputs": [
    {
     "data": {
      "text/plain": [
       "100"
      ]
     },
     "execution_count": 28,
     "metadata": {},
     "output_type": "execute_result"
    }
   ],
   "source": [
    "len(title)"
   ]
  },
  {
   "cell_type": "code",
   "execution_count": 32,
   "id": "91a20539",
   "metadata": {},
   "outputs": [
    {
     "data": {
      "text/plain": [
       "109"
      ]
     },
     "execution_count": 32,
     "metadata": {},
     "output_type": "execute_result"
    }
   ],
   "source": [
    "len(singer)"
   ]
  },
  {
   "cell_type": "code",
   "execution_count": 33,
   "id": "8756ac8a",
   "metadata": {},
   "outputs": [],
   "source": [
    "# 대표 가수 이름만 가져오기\n",
    "singer = soup.select(\"p.artist > a:nth-child(1)\")"
   ]
  },
  {
   "cell_type": "code",
   "execution_count": 34,
   "id": "0f22f998",
   "metadata": {},
   "outputs": [
    {
     "data": {
      "text/plain": [
       "100"
      ]
     },
     "execution_count": 34,
     "metadata": {},
     "output_type": "execute_result"
    }
   ],
   "source": [
    "len(singer)"
   ]
  },
  {
   "cell_type": "code",
   "execution_count": 35,
   "id": "ef1b1e18",
   "metadata": {},
   "outputs": [],
   "source": [
    "# 4. 순수한 글자정보만 담아줄 리스트 제작\n",
    "rankList = []\n",
    "titleList = []\n",
    "singerList = []\n",
    "\n",
    "for i in range(len(rank)):\n",
    "    rankList.append(rank[i].text)\n",
    "    titleList.append(title[i].text)\n",
    "    singerList.append(singer[i].text)"
   ]
  },
  {
   "cell_type": "code",
   "execution_count": 36,
   "id": "f0251223",
   "metadata": {
    "collapsed": true
   },
   "outputs": [
    {
     "data": {
      "text/plain": [
       "['BLACKPINK',\n",
       " 'IVE (아이브)',\n",
       " '지코',\n",
       " 'NewJeans',\n",
       " 'NewJeans',\n",
       " 'BLACKPINK',\n",
       " 'TWICE (트와이스)',\n",
       " '테이(Tei)',\n",
       " 'IVE (아이브)',\n",
       " 'Charlie Puth(찰리 푸스)',\n",
       " '에일리(Ailee)',\n",
       " '윤미래',\n",
       " 'BLACKPINK',\n",
       " 'NMIXX',\n",
       " 'LE SSERAFIM (르세라핌)',\n",
       " 'aespa',\n",
       " \"소녀시대 (GIRLS' GENERATION)\",\n",
       " 'NewJeans',\n",
       " 'Red Velvet (레드벨벳)',\n",
       " '(여자)아이들',\n",
       " '경서',\n",
       " '벤',\n",
       " 'IVE (아이브)',\n",
       " 'WSG워너비 (가야G)',\n",
       " 'ITZY (있지)',\n",
       " '나윤권',\n",
       " '(여자)아이들',\n",
       " 'NCT 127',\n",
       " '규현 (KYUHYUN)',\n",
       " '10CM',\n",
       " 'BLACKPINK',\n",
       " '아이유(IU)',\n",
       " 'WSG워너비 (4FIRE)',\n",
       " 'Charlie Puth(찰리 푸스)',\n",
       " 'BIG Naughty (서동현)',\n",
       " 'Carry & Ron(캐리 앤 론)',\n",
       " '아이유(IU)',\n",
       " 'BLACKPINK',\n",
       " '나연 (TWICE)',\n",
       " 'OneRepublic(원리퍼블릭)',\n",
       " '지아(Zia)',\n",
       " '아이유(IU)',\n",
       " '멜로망스(MeloMance)',\n",
       " '태연 (TAEYEON)',\n",
       " '성시경',\n",
       " '김승민',\n",
       " 'The Kid LAROI',\n",
       " '#안녕',\n",
       " '이무진',\n",
       " '선미',\n",
       " '싸이 (PSY)',\n",
       " '경서예지',\n",
       " 'BLACKPINK',\n",
       " '임영웅',\n",
       " '한동근',\n",
       " '폴킴(Paul Kim)',\n",
       " \"BE'O (비오)\",\n",
       " 'MAX(맥스)',\n",
       " '다비치',\n",
       " '탑현',\n",
       " 'YENA (최예나)',\n",
       " '김민석 (멜로망스)',\n",
       " '로꼬',\n",
       " '볼빨간사춘기',\n",
       " 'BIGBANG (빅뱅)',\n",
       " 'aespa',\n",
       " '21학번',\n",
       " '주호',\n",
       " '아이유(IU)',\n",
       " '태연 (TAEYEON)',\n",
       " '사이먼 도미닉',\n",
       " 'BLACKPINK',\n",
       " 'NewJeans',\n",
       " 'Charlie Puth(찰리 푸스)',\n",
       " '임한별',\n",
       " 'Charlie Puth(찰리 푸스)',\n",
       " '케이시',\n",
       " '오반',\n",
       " 'BLACKPINK',\n",
       " 'Stray Kids (스트레이 키즈)',\n",
       " '보라미유',\n",
       " '우원재',\n",
       " '잔나비',\n",
       " '기리보이',\n",
       " 'aespa',\n",
       " 'Justin Bieber(저스틴 비버)',\n",
       " 'WINNER',\n",
       " 'SOLE(쏠)',\n",
       " '시온',\n",
       " '김진호 (SG워너비)',\n",
       " '김기태',\n",
       " '지코',\n",
       " '여자친구(GFRIEND)',\n",
       " '최유정(Weki Meki)',\n",
       " '청하',\n",
       " 'Charlie Puth(찰리 푸스)',\n",
       " 'AKMU(악뮤)',\n",
       " 'Charlie Puth(찰리 푸스)',\n",
       " 'Crush',\n",
       " 'Camila Cabello(카밀라 카베요)']"
      ]
     },
     "execution_count": 36,
     "metadata": {},
     "output_type": "execute_result"
    }
   ],
   "source": [
    "singerList"
   ]
  },
  {
   "cell_type": "code",
   "execution_count": 39,
   "id": "ad468607",
   "metadata": {},
   "outputs": [],
   "source": [
    "# 5. 순수한 글자정보를 가지고 데이터프레임(표) > 딕셔너리데이터를 제작\n",
    "data = {\"순위\" : rankList, \"노래제목\" : titleList,\"가수\" : singerList }\n",
    "bugs = pd.DataFrame(data)"
   ]
  },
  {
   "cell_type": "code",
   "execution_count": 40,
   "id": "4f959368",
   "metadata": {},
   "outputs": [
    {
     "data": {
      "text/html": [
       "<div>\n",
       "<style scoped>\n",
       "    .dataframe tbody tr th:only-of-type {\n",
       "        vertical-align: middle;\n",
       "    }\n",
       "\n",
       "    .dataframe tbody tr th {\n",
       "        vertical-align: top;\n",
       "    }\n",
       "\n",
       "    .dataframe thead th {\n",
       "        text-align: right;\n",
       "    }\n",
       "</style>\n",
       "<table border=\"1\" class=\"dataframe\">\n",
       "  <thead>\n",
       "    <tr style=\"text-align: right;\">\n",
       "      <th></th>\n",
       "      <th>노래제목</th>\n",
       "      <th>가수</th>\n",
       "    </tr>\n",
       "    <tr>\n",
       "      <th>순위</th>\n",
       "      <th></th>\n",
       "      <th></th>\n",
       "    </tr>\n",
       "  </thead>\n",
       "  <tbody>\n",
       "    <tr>\n",
       "      <th>1</th>\n",
       "      <td>Shut Down</td>\n",
       "      <td>BLACKPINK</td>\n",
       "    </tr>\n",
       "    <tr>\n",
       "      <th>2</th>\n",
       "      <td>After LIKE</td>\n",
       "      <td>IVE (아이브)</td>\n",
       "    </tr>\n",
       "    <tr>\n",
       "      <th>3</th>\n",
       "      <td>새삥 (Prod. ZICO) (Feat. 호미들)</td>\n",
       "      <td>지코</td>\n",
       "    </tr>\n",
       "    <tr>\n",
       "      <th>4</th>\n",
       "      <td>Hype Boy</td>\n",
       "      <td>NewJeans</td>\n",
       "    </tr>\n",
       "    <tr>\n",
       "      <th>5</th>\n",
       "      <td>Attention</td>\n",
       "      <td>NewJeans</td>\n",
       "    </tr>\n",
       "    <tr>\n",
       "      <th>...</th>\n",
       "      <td>...</td>\n",
       "      <td>...</td>\n",
       "    </tr>\n",
       "    <tr>\n",
       "      <th>96</th>\n",
       "      <td>Light Switch</td>\n",
       "      <td>Charlie Puth(찰리 푸스)</td>\n",
       "    </tr>\n",
       "    <tr>\n",
       "      <th>97</th>\n",
       "      <td>시간과 낙엽</td>\n",
       "      <td>AKMU(악뮤)</td>\n",
       "    </tr>\n",
       "    <tr>\n",
       "      <th>98</th>\n",
       "      <td>Smells Like Me</td>\n",
       "      <td>Charlie Puth(찰리 푸스)</td>\n",
       "    </tr>\n",
       "    <tr>\n",
       "      <th>99</th>\n",
       "      <td>어떻게 지내</td>\n",
       "      <td>Crush</td>\n",
       "    </tr>\n",
       "    <tr>\n",
       "      <th>100</th>\n",
       "      <td>Havana (feat. Young Thug)</td>\n",
       "      <td>Camila Cabello(카밀라 카베요)</td>\n",
       "    </tr>\n",
       "  </tbody>\n",
       "</table>\n",
       "<p>100 rows × 2 columns</p>\n",
       "</div>"
      ],
      "text/plain": [
       "                            노래제목                       가수\n",
       "순위                                                       \n",
       "1                      Shut Down                BLACKPINK\n",
       "2                     After LIKE                IVE (아이브)\n",
       "3    새삥 (Prod. ZICO) (Feat. 호미들)                       지코\n",
       "4                       Hype Boy                 NewJeans\n",
       "5                      Attention                 NewJeans\n",
       "..                           ...                      ...\n",
       "96                  Light Switch      Charlie Puth(찰리 푸스)\n",
       "97                        시간과 낙엽                 AKMU(악뮤)\n",
       "98                Smells Like Me      Charlie Puth(찰리 푸스)\n",
       "99                        어떻게 지내                    Crush\n",
       "100    Havana (feat. Young Thug)  Camila Cabello(카밀라 카베요)\n",
       "\n",
       "[100 rows x 2 columns]"
      ]
     },
     "execution_count": 40,
     "metadata": {},
     "output_type": "execute_result"
    }
   ],
   "source": [
    "bugs.set_index(\"순위\")"
   ]
  },
  {
   "cell_type": "code",
   "execution_count": 43,
   "id": "fac9486e",
   "metadata": {},
   "outputs": [],
   "source": [
    "# 6. csv파일로 저장, html파일로 저장\n",
    "bugs.to_csv(\"벅스차트.csv\", encoding = \"euc-kr\", index=False)"
   ]
  },
  {
   "cell_type": "code",
   "execution_count": 44,
   "id": "c458e178",
   "metadata": {},
   "outputs": [],
   "source": [
    "bugs.to_html(\"벅스차트.html\")"
   ]
  },
  {
   "cell_type": "code",
   "execution_count": 45,
   "id": "9adc08b4",
   "metadata": {},
   "outputs": [],
   "source": [
    "# 개수가 정해진 데이터는 꼭 데이터의 개수 체크 !\n",
    "# 선택자를 너무 믿지 말기 !\n",
    "# 데이터를 못가지고 올때는 주변태그들을 꼭 검사 !"
   ]
  }
 ],
 "metadata": {
  "kernelspec": {
   "display_name": "Python 3 (ipykernel)",
   "language": "python",
   "name": "python3"
  },
  "language_info": {
   "codemirror_mode": {
    "name": "ipython",
    "version": 3
   },
   "file_extension": ".py",
   "mimetype": "text/x-python",
   "name": "python",
   "nbconvert_exporter": "python",
   "pygments_lexer": "ipython3",
   "version": "3.10.7"
  }
 },
 "nbformat": 4,
 "nbformat_minor": 5
}
