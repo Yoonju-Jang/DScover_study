{
 "cells": [
  {
   "cell_type": "markdown",
   "id": "71560e55",
   "metadata": {},
   "source": [
    "# Selenium 라이브러리\n",
    "- 웹브라우저를 자동으로 제어하는 라이브러리\n",
    "- webdriver = 브라우저의 역할을 해주는 라이브러리\n",
    "- Keys = 컴퓨터에게 키보드 역할을 해주는 라이브러리"
   ]
  },
  {
   "cell_type": "code",
   "execution_count": 1,
   "id": "ff6b5d8c",
   "metadata": {
    "collapsed": true
   },
   "outputs": [
    {
     "name": "stdout",
     "output_type": "stream",
     "text": [
      "Collecting selenium\n",
      "  Downloading selenium-4.5.0-py3-none-any.whl (995 kB)\n",
      "     -------------------------------------- 995.2/995.2 kB 7.9 MB/s eta 0:00:00\n",
      "Requirement already satisfied: certifi>=2021.10.8 in d:\\python\\lib\\site-packages (from selenium) (2022.9.14)\n",
      "Requirement already satisfied: urllib3[socks]~=1.26 in d:\\python\\lib\\site-packages (from selenium) (1.26.12)\n",
      "Collecting trio-websocket~=0.9\n",
      "  Downloading trio_websocket-0.9.2-py3-none-any.whl (16 kB)\n",
      "Collecting trio~=0.17\n",
      "  Downloading trio-0.22.0-py3-none-any.whl (384 kB)\n",
      "     ------------------------------------- 384.9/384.9 kB 12.1 MB/s eta 0:00:00\n",
      "Collecting exceptiongroup>=1.0.0rc9\n",
      "  Downloading exceptiongroup-1.0.0rc9-py3-none-any.whl (12 kB)\n",
      "Collecting sniffio\n",
      "  Downloading sniffio-1.3.0-py3-none-any.whl (10 kB)\n",
      "Requirement already satisfied: cffi>=1.14 in d:\\python\\lib\\site-packages (from trio~=0.17->selenium) (1.15.1)\n",
      "Collecting outcome\n",
      "  Downloading outcome-1.2.0-py2.py3-none-any.whl (9.7 kB)\n",
      "Requirement already satisfied: attrs>=19.2.0 in d:\\python\\lib\\site-packages (from trio~=0.17->selenium) (22.1.0)\n",
      "Requirement already satisfied: idna in d:\\python\\lib\\site-packages (from trio~=0.17->selenium) (3.4)\n",
      "Collecting sortedcontainers\n",
      "  Downloading sortedcontainers-2.4.0-py2.py3-none-any.whl (29 kB)\n",
      "Collecting async-generator>=1.9\n",
      "  Downloading async_generator-1.10-py3-none-any.whl (18 kB)\n",
      "Collecting wsproto>=0.14\n",
      "  Downloading wsproto-1.2.0-py3-none-any.whl (24 kB)\n",
      "Collecting PySocks!=1.5.7,<2.0,>=1.5.6\n",
      "  Downloading PySocks-1.7.1-py3-none-any.whl (16 kB)\n",
      "Requirement already satisfied: pycparser in d:\\python\\lib\\site-packages (from cffi>=1.14->trio~=0.17->selenium) (2.21)\n",
      "Collecting h11<1,>=0.9.0\n",
      "  Downloading h11-0.14.0-py3-none-any.whl (58 kB)\n",
      "     ---------------------------------------- 58.3/58.3 kB ? eta 0:00:00\n",
      "Installing collected packages: sortedcontainers, sniffio, PySocks, outcome, h11, exceptiongroup, async-generator, wsproto, trio, trio-websocket, selenium\n",
      "Successfully installed PySocks-1.7.1 async-generator-1.10 exceptiongroup-1.0.0rc9 h11-0.14.0 outcome-1.2.0 selenium-4.5.0 sniffio-1.3.0 sortedcontainers-2.4.0 trio-0.22.0 trio-websocket-0.9.2 wsproto-1.2.0\n"
     ]
    }
   ],
   "source": [
    "!pip install selenium"
   ]
  },
  {
   "cell_type": "code",
   "execution_count": 15,
   "id": "da7a2f14",
   "metadata": {},
   "outputs": [],
   "source": [
    "from selenium import webdriver as wb\n",
    "from selenium.webdriver.common.keys import Keys\n",
    "from selenium.webdriver.common.by import By"
   ]
  },
  {
   "cell_type": "code",
   "execution_count": 25,
   "id": "17a59297",
   "metadata": {},
   "outputs": [],
   "source": [
    "# 컴퓨터야 wb를 통해서 크롬브라우저 좀 실핼 시켜줘~\n",
    "# 크롬창을 실행하는 명령어는 wb.Chrome()\n",
    "# .get(\"URL\")\n",
    "driver = wb.Chrome()\n",
    "driver.get(\"https://www.naver.com\")"
   ]
  },
  {
   "cell_type": "code",
   "execution_count": 31,
   "id": "710358b3",
   "metadata": {},
   "outputs": [],
   "source": [
    "# 드라이버야 아이디가 query 요소 좀 찾아줘\n",
    "# 두 번 \"검사\" 눌러야 해당 요소의 html를 보여줌\n",
    "search = driver.find_element(By.ID, 'query')"
   ]
  },
  {
   "cell_type": "code",
   "execution_count": 32,
   "id": "da848f5f",
   "metadata": {},
   "outputs": [],
   "source": [
    "# search 검색창한테 '코로나'를 보내줘\n",
    "# key값을 보내는 경우에는 send_keys()\n",
    "search.send_keys(\"코로나\")"
   ]
  },
  {
   "cell_type": "code",
   "execution_count": 28,
   "id": "9645dcc3",
   "metadata": {},
   "outputs": [],
   "source": [
    "# 엔터를 치는 방법 -> 키보드의 ENTER를 누르게 하기\n",
    "search.send_keys(Keys.ENTER)"
   ]
  },
  {
   "cell_type": "code",
   "execution_count": 30,
   "id": "ea77822c",
   "metadata": {},
   "outputs": [],
   "source": [
    "# 뒤로가기 버튼 기능 실행 .back()\n",
    "driver.back()"
   ]
  },
  {
   "cell_type": "code",
   "execution_count": 34,
   "id": "563ed15b",
   "metadata": {},
   "outputs": [],
   "source": [
    "# 클릭을 하는 방법\n",
    "btn = driver.find_element(By.ID, 'search_btn')\n",
    "btn.click()"
   ]
  },
  {
   "cell_type": "code",
   "execution_count": 35,
   "id": "c01dc5c0",
   "metadata": {},
   "outputs": [],
   "source": [
    "# 창을 종료하는 방법\n",
    "driver.quit()"
   ]
  }
 ],
 "metadata": {
  "kernelspec": {
   "display_name": "Python 3 (ipykernel)",
   "language": "python",
   "name": "python3"
  },
  "language_info": {
   "codemirror_mode": {
    "name": "ipython",
    "version": 3
   },
   "file_extension": ".py",
   "mimetype": "text/x-python",
   "name": "python",
   "nbconvert_exporter": "python",
   "pygments_lexer": "ipython3",
   "version": "3.10.7"
  }
 },
 "nbformat": 4,
 "nbformat_minor": 5
}
