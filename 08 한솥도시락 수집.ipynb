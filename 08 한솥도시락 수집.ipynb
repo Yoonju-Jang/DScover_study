{
 "cells": [
  {
   "cell_type": "code",
   "execution_count": 1,
   "id": "ae6c0549",
   "metadata": {},
   "outputs": [],
   "source": [
    "from selenium import webdriver as wb\n",
    "from selenium.webdriver.common.keys import Keys\n",
    "from selenium.webdriver.common.by import By\n",
    "import time\n",
    "import pandas as pd"
   ]
  },
  {
   "cell_type": "code",
   "execution_count": 19,
   "id": "d66afcf5",
   "metadata": {},
   "outputs": [],
   "source": [
    "driver= wb.Chrome()\n",
    "driver.get(\"https://www.hsd.co.kr/\")"
   ]
  },
  {
   "cell_type": "code",
   "execution_count": 3,
   "id": "d01ffd42",
   "metadata": {},
   "outputs": [
    {
     "data": {
      "text/plain": [
       "''"
      ]
     },
     "execution_count": 3,
     "metadata": {},
     "output_type": "execute_result"
    }
   ],
   "source": [
    "driver.find_element(By.CSS_SELECTOR, \"div.dp2 > ul > li:nth-child(1) > a\").text"
   ]
  },
  {
   "cell_type": "code",
   "execution_count": 4,
   "id": "8808053f",
   "metadata": {},
   "outputs": [
    {
     "data": {
      "text/plain": [
       "''"
      ]
     },
     "execution_count": 4,
     "metadata": {},
     "output_type": "execute_result"
    }
   ],
   "source": [
    "# find_elements는 결과를 list구조로 받기 때문에 무조건 인덱스와 함께 사용 !!\n",
    "driver.find_elements(By.CSS_SELECTOR, \"div.dp2 > ul > li:nth-child(1) > a\")[0].text"
   ]
  },
  {
   "cell_type": "markdown",
   "id": "12476bb1",
   "metadata": {},
   "source": [
    "Why Error??\n",
    "\n",
    "'전체메뉴'는 display: none 되어 있다 -> 즉 컴퓨터가 바로 접근 불가\n",
    "\n",
    "## 그렇다면 , 일단 MENU에 마우스를 위치시키자"
   ]
  },
  {
   "cell_type": "code",
   "execution_count": 20,
   "id": "0b413d6d",
   "metadata": {},
   "outputs": [],
   "source": [
    "# 이벤트를 제어하는 라이브러리\n",
    "# ex) 마우스를 올려두겠다, 클릭한 상태를 유지시키겠다, 드래그 앤 드롭\n",
    "from selenium.webdriver.common.action_chains import ActionChains"
   ]
  },
  {
   "cell_type": "code",
   "execution_count": 21,
   "id": "d48ffea0",
   "metadata": {},
   "outputs": [],
   "source": [
    "# 1. 마우스를 올릴 요소 (메뉴) \n",
    "# 2. 클릭할 요소 (전체메뉴)\n",
    "elm_hover = driver.find_element(By.CSS_SELECTOR,\"#gnb > div.gnb_menu > ul > li:nth-child(3) > p > a\")\n",
    "elm_click = driver.find_element(By.CSS_SELECTOR, \"#gnb > div.gnb_menu > ul > li:nth-child(3) > div > ul > li:nth-child(1) > a\")"
   ]
  },
  {
   "cell_type": "code",
   "execution_count": 22,
   "id": "bdcf4fb2",
   "metadata": {},
   "outputs": [],
   "source": [
    "actions = ActionChains(driver) \n",
    "# move_to_element : 원하는 요소로 마우스를 움직여라\n",
    "actions.move_to_element(elm_hover)  # 명령1 묶어둠\n",
    "actions.click(elm_click)            # 명령2 묶어둠\n",
    "# perform() : 내가 작성한 이벤트 실행 좀 시켜줘!\n",
    "actions.perform()  # 실행 "
   ]
  },
  {
   "cell_type": "code",
   "execution_count": 31,
   "id": "2957046c",
   "metadata": {},
   "outputs": [],
   "source": [
    "# \"h fz_03\"처럼 클래스에 공백이 존재한다? >> 공백을 지워주고 .으로 메우기\n",
    "title = driver.find_elements(By.CSS_SELECTOR, \"h4.h.fz_03\")"
   ]
  },
  {
   "cell_type": "code",
   "execution_count": 36,
   "id": "cd64652b",
   "metadata": {
    "collapsed": true
   },
   "outputs": [
    {
     "data": {
      "text/plain": [
       "[<selenium.webdriver.remote.webelement.WebElement (session=\"d1d839a9b45c59c4142876ff09f7f4aa\", element=\"2f2a728d-bf1b-42b1-ad35-ad996460fc9a\")>,\n",
       " <selenium.webdriver.remote.webelement.WebElement (session=\"d1d839a9b45c59c4142876ff09f7f4aa\", element=\"b19d1d52-0713-428f-bcd8-468ba00d3db0\")>,\n",
       " <selenium.webdriver.remote.webelement.WebElement (session=\"d1d839a9b45c59c4142876ff09f7f4aa\", element=\"aca2d7c7-f98e-4f89-9fbc-334346c3469e\")>,\n",
       " <selenium.webdriver.remote.webelement.WebElement (session=\"d1d839a9b45c59c4142876ff09f7f4aa\", element=\"7cd394da-a357-4538-8f56-46fed3886db9\")>,\n",
       " <selenium.webdriver.remote.webelement.WebElement (session=\"d1d839a9b45c59c4142876ff09f7f4aa\", element=\"7f6997a6-ad36-4b33-b4b7-ed1f25d16460\")>,\n",
       " <selenium.webdriver.remote.webelement.WebElement (session=\"d1d839a9b45c59c4142876ff09f7f4aa\", element=\"8546c477-88ab-47d3-ad77-6aeb1f60e3ab\")>,\n",
       " <selenium.webdriver.remote.webelement.WebElement (session=\"d1d839a9b45c59c4142876ff09f7f4aa\", element=\"19fba2bb-6db8-4a0f-a753-0323f7e8c62c\")>,\n",
       " <selenium.webdriver.remote.webelement.WebElement (session=\"d1d839a9b45c59c4142876ff09f7f4aa\", element=\"c1689935-29df-4ccf-a67d-cb392deaa504\")>,\n",
       " <selenium.webdriver.remote.webelement.WebElement (session=\"d1d839a9b45c59c4142876ff09f7f4aa\", element=\"c1cc002a-8d17-43f5-92af-4d64b91ab377\")>,\n",
       " <selenium.webdriver.remote.webelement.WebElement (session=\"d1d839a9b45c59c4142876ff09f7f4aa\", element=\"c1d2556c-48dd-44a9-a2ef-467ac037a96d\")>,\n",
       " <selenium.webdriver.remote.webelement.WebElement (session=\"d1d839a9b45c59c4142876ff09f7f4aa\", element=\"c6022972-c25f-4977-93a4-ff52e7a17e30\")>,\n",
       " <selenium.webdriver.remote.webelement.WebElement (session=\"d1d839a9b45c59c4142876ff09f7f4aa\", element=\"295a84e0-8a92-499a-b888-64d2bd4623a1\")>,\n",
       " <selenium.webdriver.remote.webelement.WebElement (session=\"d1d839a9b45c59c4142876ff09f7f4aa\", element=\"11dacb2e-51e8-48cc-a7e2-b409a61f10de\")>,\n",
       " <selenium.webdriver.remote.webelement.WebElement (session=\"d1d839a9b45c59c4142876ff09f7f4aa\", element=\"2a37a1b0-4b87-481f-bd0b-2064b9a7f24c\")>,\n",
       " <selenium.webdriver.remote.webelement.WebElement (session=\"d1d839a9b45c59c4142876ff09f7f4aa\", element=\"b6a884c8-b989-4179-9045-75920c549b86\")>,\n",
       " <selenium.webdriver.remote.webelement.WebElement (session=\"d1d839a9b45c59c4142876ff09f7f4aa\", element=\"ac70c267-e416-4533-a7dc-590373b2a790\")>,\n",
       " <selenium.webdriver.remote.webelement.WebElement (session=\"d1d839a9b45c59c4142876ff09f7f4aa\", element=\"a5ad2dc1-d759-4b77-ad01-385ad3a259b3\")>,\n",
       " <selenium.webdriver.remote.webelement.WebElement (session=\"d1d839a9b45c59c4142876ff09f7f4aa\", element=\"0a5cfc58-f200-4d34-97c0-1003c0840074\")>,\n",
       " <selenium.webdriver.remote.webelement.WebElement (session=\"d1d839a9b45c59c4142876ff09f7f4aa\", element=\"25e511d5-137c-4687-9f55-31e44be3aff3\")>,\n",
       " <selenium.webdriver.remote.webelement.WebElement (session=\"d1d839a9b45c59c4142876ff09f7f4aa\", element=\"bd571cc9-39ff-484d-9ed3-d97aa24f7764\")>,\n",
       " <selenium.webdriver.remote.webelement.WebElement (session=\"d1d839a9b45c59c4142876ff09f7f4aa\", element=\"b69eb31a-286f-49df-b4f5-70e70c3a0517\")>,\n",
       " <selenium.webdriver.remote.webelement.WebElement (session=\"d1d839a9b45c59c4142876ff09f7f4aa\", element=\"07d84047-27b1-434a-9444-74ac26f6dc0e\")>,\n",
       " <selenium.webdriver.remote.webelement.WebElement (session=\"d1d839a9b45c59c4142876ff09f7f4aa\", element=\"9f9bab52-2729-46a3-bc76-303608768e49\")>,\n",
       " <selenium.webdriver.remote.webelement.WebElement (session=\"d1d839a9b45c59c4142876ff09f7f4aa\", element=\"9c0e7312-ae3a-46e3-b8d8-037aa74427ed\")>,\n",
       " <selenium.webdriver.remote.webelement.WebElement (session=\"d1d839a9b45c59c4142876ff09f7f4aa\", element=\"9c28fab7-7f6d-4dfb-a0ef-da87417b1ff5\")>,\n",
       " <selenium.webdriver.remote.webelement.WebElement (session=\"d1d839a9b45c59c4142876ff09f7f4aa\", element=\"b1189e5d-c82f-44b1-9846-206500502c12\")>,\n",
       " <selenium.webdriver.remote.webelement.WebElement (session=\"d1d839a9b45c59c4142876ff09f7f4aa\", element=\"8131b1a3-67de-4d07-b737-83cd16befd1d\")>,\n",
       " <selenium.webdriver.remote.webelement.WebElement (session=\"d1d839a9b45c59c4142876ff09f7f4aa\", element=\"3d006a88-08c8-49af-b57d-1f1830fd8cc7\")>,\n",
       " <selenium.webdriver.remote.webelement.WebElement (session=\"d1d839a9b45c59c4142876ff09f7f4aa\", element=\"a4bae4c9-44d6-47c9-aa0d-837876188926\")>,\n",
       " <selenium.webdriver.remote.webelement.WebElement (session=\"d1d839a9b45c59c4142876ff09f7f4aa\", element=\"31a43f43-374f-4be3-a54f-ba3c621c5c2a\")>,\n",
       " <selenium.webdriver.remote.webelement.WebElement (session=\"d1d839a9b45c59c4142876ff09f7f4aa\", element=\"252f5cfc-ca3b-49f1-a8d6-1b3b840d765a\")>,\n",
       " <selenium.webdriver.remote.webelement.WebElement (session=\"d1d839a9b45c59c4142876ff09f7f4aa\", element=\"62e51c84-f245-4656-b71b-4885be301e64\")>,\n",
       " <selenium.webdriver.remote.webelement.WebElement (session=\"d1d839a9b45c59c4142876ff09f7f4aa\", element=\"21360bd3-7a82-44e6-bcb9-2a25610a1de9\")>,\n",
       " <selenium.webdriver.remote.webelement.WebElement (session=\"d1d839a9b45c59c4142876ff09f7f4aa\", element=\"afb7d502-cc71-4ea8-865a-21d510e824e9\")>,\n",
       " <selenium.webdriver.remote.webelement.WebElement (session=\"d1d839a9b45c59c4142876ff09f7f4aa\", element=\"27bbf50d-a093-4407-8131-73c1932c8577\")>,\n",
       " <selenium.webdriver.remote.webelement.WebElement (session=\"d1d839a9b45c59c4142876ff09f7f4aa\", element=\"46a09121-0344-4d82-b321-52ab993f3b4d\")>,\n",
       " <selenium.webdriver.remote.webelement.WebElement (session=\"d1d839a9b45c59c4142876ff09f7f4aa\", element=\"305e27cc-d515-4026-8a6a-39788c3b0d9e\")>,\n",
       " <selenium.webdriver.remote.webelement.WebElement (session=\"d1d839a9b45c59c4142876ff09f7f4aa\", element=\"1bc24482-0914-43b8-a7c0-8be3cd93cba1\")>,\n",
       " <selenium.webdriver.remote.webelement.WebElement (session=\"d1d839a9b45c59c4142876ff09f7f4aa\", element=\"ab2fbf62-c7de-4869-8cff-faff2ff480d1\")>,\n",
       " <selenium.webdriver.remote.webelement.WebElement (session=\"d1d839a9b45c59c4142876ff09f7f4aa\", element=\"dfe545c9-092b-479b-b6e2-8865fde835ac\")>,\n",
       " <selenium.webdriver.remote.webelement.WebElement (session=\"d1d839a9b45c59c4142876ff09f7f4aa\", element=\"bd2bdb3b-3336-4ce3-960b-a3b79d512e3c\")>,\n",
       " <selenium.webdriver.remote.webelement.WebElement (session=\"d1d839a9b45c59c4142876ff09f7f4aa\", element=\"9c5dd78d-2f7b-4a3e-a4c3-acb6d3d17a0c\")>,\n",
       " <selenium.webdriver.remote.webelement.WebElement (session=\"d1d839a9b45c59c4142876ff09f7f4aa\", element=\"ca54d552-0699-4ac1-80f3-7895be698601\")>,\n",
       " <selenium.webdriver.remote.webelement.WebElement (session=\"d1d839a9b45c59c4142876ff09f7f4aa\", element=\"92c6c420-838d-4e71-98db-d83179d1897a\")>,\n",
       " <selenium.webdriver.remote.webelement.WebElement (session=\"d1d839a9b45c59c4142876ff09f7f4aa\", element=\"8151a716-a3e6-46ef-9c02-2041047f1438\")>,\n",
       " <selenium.webdriver.remote.webelement.WebElement (session=\"d1d839a9b45c59c4142876ff09f7f4aa\", element=\"29c8deb0-fafe-4d1e-bb43-446819ea887d\")>,\n",
       " <selenium.webdriver.remote.webelement.WebElement (session=\"d1d839a9b45c59c4142876ff09f7f4aa\", element=\"4786630c-f89d-48d9-b9b8-47dcc6e30f11\")>,\n",
       " <selenium.webdriver.remote.webelement.WebElement (session=\"d1d839a9b45c59c4142876ff09f7f4aa\", element=\"58059c48-e787-442b-baa3-945e11ac19d2\")>,\n",
       " <selenium.webdriver.remote.webelement.WebElement (session=\"d1d839a9b45c59c4142876ff09f7f4aa\", element=\"466544d8-d809-4a85-97a4-9fffaf153694\")>,\n",
       " <selenium.webdriver.remote.webelement.WebElement (session=\"d1d839a9b45c59c4142876ff09f7f4aa\", element=\"33a5c43f-20ba-4c5b-909e-19f6014bf155\")>,\n",
       " <selenium.webdriver.remote.webelement.WebElement (session=\"d1d839a9b45c59c4142876ff09f7f4aa\", element=\"9808c050-f9e4-4af5-ad47-eaac6fee57dc\")>,\n",
       " <selenium.webdriver.remote.webelement.WebElement (session=\"d1d839a9b45c59c4142876ff09f7f4aa\", element=\"678e5675-7f2a-4cf9-85b0-e06910e09b00\")>,\n",
       " <selenium.webdriver.remote.webelement.WebElement (session=\"d1d839a9b45c59c4142876ff09f7f4aa\", element=\"0afaaf65-9935-4886-a2b8-f9b619f665c8\")>,\n",
       " <selenium.webdriver.remote.webelement.WebElement (session=\"d1d839a9b45c59c4142876ff09f7f4aa\", element=\"74ff32d4-a60d-456c-9e29-4921d7e723b4\")>,\n",
       " <selenium.webdriver.remote.webelement.WebElement (session=\"d1d839a9b45c59c4142876ff09f7f4aa\", element=\"983f1836-245a-48f4-87f8-82dbaeea4916\")>,\n",
       " <selenium.webdriver.remote.webelement.WebElement (session=\"d1d839a9b45c59c4142876ff09f7f4aa\", element=\"33896c63-ab70-4f9b-976a-c9dc4f983339\")>,\n",
       " <selenium.webdriver.remote.webelement.WebElement (session=\"d1d839a9b45c59c4142876ff09f7f4aa\", element=\"65e0e4c9-e1d5-464d-a4a6-50457dacf395\")>,\n",
       " <selenium.webdriver.remote.webelement.WebElement (session=\"d1d839a9b45c59c4142876ff09f7f4aa\", element=\"8aec95c4-fc0d-4b43-9af0-82730fbf6a17\")>,\n",
       " <selenium.webdriver.remote.webelement.WebElement (session=\"d1d839a9b45c59c4142876ff09f7f4aa\", element=\"a94596c5-c849-42c5-bb1a-74ccb9e8bb87\")>,\n",
       " <selenium.webdriver.remote.webelement.WebElement (session=\"d1d839a9b45c59c4142876ff09f7f4aa\", element=\"f57f2ea1-d597-4d54-93c6-ada2bbd23c31\")>,\n",
       " <selenium.webdriver.remote.webelement.WebElement (session=\"d1d839a9b45c59c4142876ff09f7f4aa\", element=\"17c64288-3f56-4519-bb5d-0262284b4a96\")>,\n",
       " <selenium.webdriver.remote.webelement.WebElement (session=\"d1d839a9b45c59c4142876ff09f7f4aa\", element=\"f9ea1065-6c1f-421e-8251-2e1f2a80ac29\")>,\n",
       " <selenium.webdriver.remote.webelement.WebElement (session=\"d1d839a9b45c59c4142876ff09f7f4aa\", element=\"4b010c8d-af92-471c-898f-38542b2fdc0a\")>,\n",
       " <selenium.webdriver.remote.webelement.WebElement (session=\"d1d839a9b45c59c4142876ff09f7f4aa\", element=\"e1e33cbb-41dc-456a-9e0e-cccf96ae8939\")>,\n",
       " <selenium.webdriver.remote.webelement.WebElement (session=\"d1d839a9b45c59c4142876ff09f7f4aa\", element=\"198289da-b391-4aa6-aed0-3445ccc80652\")>,\n",
       " <selenium.webdriver.remote.webelement.WebElement (session=\"d1d839a9b45c59c4142876ff09f7f4aa\", element=\"f1fa528e-86be-48b8-a7ea-b5ca0c08d0c7\")>,\n",
       " <selenium.webdriver.remote.webelement.WebElement (session=\"d1d839a9b45c59c4142876ff09f7f4aa\", element=\"55fc8b41-c04e-482d-b733-a1227c0d175c\")>,\n",
       " <selenium.webdriver.remote.webelement.WebElement (session=\"d1d839a9b45c59c4142876ff09f7f4aa\", element=\"095e1557-33e1-4939-9656-205b66c1b811\")>,\n",
       " <selenium.webdriver.remote.webelement.WebElement (session=\"d1d839a9b45c59c4142876ff09f7f4aa\", element=\"30dfdc02-d7a1-422c-9cd7-b99a6c53da3f\")>,\n",
       " <selenium.webdriver.remote.webelement.WebElement (session=\"d1d839a9b45c59c4142876ff09f7f4aa\", element=\"f22d33d2-d4e7-4bdb-b0e7-5471f76ae392\")>,\n",
       " <selenium.webdriver.remote.webelement.WebElement (session=\"d1d839a9b45c59c4142876ff09f7f4aa\", element=\"0ac07f7a-e1c7-43bc-860b-3ff24545ea92\")>,\n",
       " <selenium.webdriver.remote.webelement.WebElement (session=\"d1d839a9b45c59c4142876ff09f7f4aa\", element=\"ab5de92d-37f2-4499-ad9e-7c8910b70daf\")>,\n",
       " <selenium.webdriver.remote.webelement.WebElement (session=\"d1d839a9b45c59c4142876ff09f7f4aa\", element=\"6aa25bc0-89d9-42c2-a902-7ba497cd824b\")>,\n",
       " <selenium.webdriver.remote.webelement.WebElement (session=\"d1d839a9b45c59c4142876ff09f7f4aa\", element=\"3b53f6e7-9972-4f62-be72-be12dadeae6a\")>,\n",
       " <selenium.webdriver.remote.webelement.WebElement (session=\"d1d839a9b45c59c4142876ff09f7f4aa\", element=\"f33952a7-636c-4695-95e0-a83eb3b2bb76\")>,\n",
       " <selenium.webdriver.remote.webelement.WebElement (session=\"d1d839a9b45c59c4142876ff09f7f4aa\", element=\"dbc00089-42b7-4d5c-be5c-4714914b3f97\")>,\n",
       " <selenium.webdriver.remote.webelement.WebElement (session=\"d1d839a9b45c59c4142876ff09f7f4aa\", element=\"1224f6e1-2e4b-4d22-8db3-80b3aa6380ed\")>,\n",
       " <selenium.webdriver.remote.webelement.WebElement (session=\"d1d839a9b45c59c4142876ff09f7f4aa\", element=\"71c40ff0-3614-4506-9af3-2301ae76463f\")>,\n",
       " <selenium.webdriver.remote.webelement.WebElement (session=\"d1d839a9b45c59c4142876ff09f7f4aa\", element=\"ed8fe4d7-563e-4e64-a385-f65cc5751566\")>,\n",
       " <selenium.webdriver.remote.webelement.WebElement (session=\"d1d839a9b45c59c4142876ff09f7f4aa\", element=\"1f8e1484-d91e-4412-898e-a790b4d3fd3a\")>,\n",
       " <selenium.webdriver.remote.webelement.WebElement (session=\"d1d839a9b45c59c4142876ff09f7f4aa\", element=\"57064b9f-6712-4b06-8f4c-10b4c0443851\")>,\n",
       " <selenium.webdriver.remote.webelement.WebElement (session=\"d1d839a9b45c59c4142876ff09f7f4aa\", element=\"afb83ff2-17ea-45b5-958e-b0e2eee15ffe\")>,\n",
       " <selenium.webdriver.remote.webelement.WebElement (session=\"d1d839a9b45c59c4142876ff09f7f4aa\", element=\"ebbc6c44-f34f-449d-a505-89fdcfb42c8f\")>,\n",
       " <selenium.webdriver.remote.webelement.WebElement (session=\"d1d839a9b45c59c4142876ff09f7f4aa\", element=\"80991b28-1cd0-4a4a-b9cc-b034fe74800b\")>,\n",
       " <selenium.webdriver.remote.webelement.WebElement (session=\"d1d839a9b45c59c4142876ff09f7f4aa\", element=\"74bd56e4-a3b0-4474-86a8-1d7c98d08af3\")>,\n",
       " <selenium.webdriver.remote.webelement.WebElement (session=\"d1d839a9b45c59c4142876ff09f7f4aa\", element=\"1bd60173-db68-49f6-8de7-f1f526ecf8b1\")>,\n",
       " <selenium.webdriver.remote.webelement.WebElement (session=\"d1d839a9b45c59c4142876ff09f7f4aa\", element=\"fffbccea-0fd4-4e0a-bda8-aa44a125c42c\")>,\n",
       " <selenium.webdriver.remote.webelement.WebElement (session=\"d1d839a9b45c59c4142876ff09f7f4aa\", element=\"548ef2a9-2bc1-47ae-b22b-0c404aac3c96\")>,\n",
       " <selenium.webdriver.remote.webelement.WebElement (session=\"d1d839a9b45c59c4142876ff09f7f4aa\", element=\"2357bb68-8eb2-43de-9d69-073c544b9f9c\")>]"
      ]
     },
     "execution_count": 36,
     "metadata": {},
     "output_type": "execute_result"
    }
   ],
   "source": [
    "title"
   ]
  },
  {
   "cell_type": "code",
   "execution_count": 10,
   "id": "9ba68270",
   "metadata": {},
   "outputs": [
    {
     "data": {
      "text/plain": [
       "'더블함박'"
      ]
     },
     "execution_count": 10,
     "metadata": {},
     "output_type": "execute_result"
    }
   ],
   "source": [
    "title[0].text"
   ]
  },
  {
   "cell_type": "code",
   "execution_count": 32,
   "id": "460814db",
   "metadata": {},
   "outputs": [
    {
     "data": {
      "text/plain": [
       "89"
      ]
     },
     "execution_count": 32,
     "metadata": {},
     "output_type": "execute_result"
    }
   ],
   "source": [
    "len(title)"
   ]
  },
  {
   "cell_type": "code",
   "execution_count": 33,
   "id": "52d53667",
   "metadata": {},
   "outputs": [],
   "source": [
    "# 구분자가 없는 태그는 ? >> 부모 태그를 검사하자\n",
    "price = driver.find_elements(By.CSS_SELECTOR, \"div.item-price > strong\")"
   ]
  },
  {
   "cell_type": "code",
   "execution_count": 35,
   "id": "b4531824",
   "metadata": {
    "collapsed": true
   },
   "outputs": [
    {
     "data": {
      "text/plain": [
       "[<selenium.webdriver.remote.webelement.WebElement (session=\"d1d839a9b45c59c4142876ff09f7f4aa\", element=\"a9d389b7-5c7f-45d1-8e91-6e310c97946f\")>,\n",
       " <selenium.webdriver.remote.webelement.WebElement (session=\"d1d839a9b45c59c4142876ff09f7f4aa\", element=\"ee09190f-5e07-45d3-bcf8-3566f1fa2d17\")>,\n",
       " <selenium.webdriver.remote.webelement.WebElement (session=\"d1d839a9b45c59c4142876ff09f7f4aa\", element=\"02770fb0-d5e6-49f6-80d2-a8debb7c933d\")>,\n",
       " <selenium.webdriver.remote.webelement.WebElement (session=\"d1d839a9b45c59c4142876ff09f7f4aa\", element=\"8eca1fac-8459-4828-9e06-5d325de95d7b\")>,\n",
       " <selenium.webdriver.remote.webelement.WebElement (session=\"d1d839a9b45c59c4142876ff09f7f4aa\", element=\"e8eeefcc-79e1-4e72-a06f-1e74752e8d82\")>,\n",
       " <selenium.webdriver.remote.webelement.WebElement (session=\"d1d839a9b45c59c4142876ff09f7f4aa\", element=\"03e39260-3659-444e-b704-5d0e4389ef22\")>,\n",
       " <selenium.webdriver.remote.webelement.WebElement (session=\"d1d839a9b45c59c4142876ff09f7f4aa\", element=\"fcdceedc-b52e-4fd3-a658-70a10e354ece\")>,\n",
       " <selenium.webdriver.remote.webelement.WebElement (session=\"d1d839a9b45c59c4142876ff09f7f4aa\", element=\"a4f11801-c15f-4a63-8071-92b88ec33d3e\")>,\n",
       " <selenium.webdriver.remote.webelement.WebElement (session=\"d1d839a9b45c59c4142876ff09f7f4aa\", element=\"a44f6c94-d6dc-4293-8c50-4d207bb97954\")>,\n",
       " <selenium.webdriver.remote.webelement.WebElement (session=\"d1d839a9b45c59c4142876ff09f7f4aa\", element=\"0b2a7291-4276-4866-a806-3ab701ec5012\")>,\n",
       " <selenium.webdriver.remote.webelement.WebElement (session=\"d1d839a9b45c59c4142876ff09f7f4aa\", element=\"056382d5-2048-4d75-a1fc-48c7d51bca8d\")>,\n",
       " <selenium.webdriver.remote.webelement.WebElement (session=\"d1d839a9b45c59c4142876ff09f7f4aa\", element=\"670d2dc1-05ef-421a-8ae3-eb8e32e280c0\")>,\n",
       " <selenium.webdriver.remote.webelement.WebElement (session=\"d1d839a9b45c59c4142876ff09f7f4aa\", element=\"a6909d86-5586-4540-a56b-6f2351e38963\")>,\n",
       " <selenium.webdriver.remote.webelement.WebElement (session=\"d1d839a9b45c59c4142876ff09f7f4aa\", element=\"42cb1215-4931-45cd-9b9a-d92bed75ae2a\")>,\n",
       " <selenium.webdriver.remote.webelement.WebElement (session=\"d1d839a9b45c59c4142876ff09f7f4aa\", element=\"320cb967-d8d5-4bfb-999c-1bea9c2fee8b\")>,\n",
       " <selenium.webdriver.remote.webelement.WebElement (session=\"d1d839a9b45c59c4142876ff09f7f4aa\", element=\"8235462b-83c1-4dfd-ae2f-ab75d427ec1e\")>,\n",
       " <selenium.webdriver.remote.webelement.WebElement (session=\"d1d839a9b45c59c4142876ff09f7f4aa\", element=\"5c60b9c2-44ac-48cf-989b-a2a3adf817d5\")>,\n",
       " <selenium.webdriver.remote.webelement.WebElement (session=\"d1d839a9b45c59c4142876ff09f7f4aa\", element=\"7115df39-f1cd-4ead-abb4-fe75fc0c497d\")>,\n",
       " <selenium.webdriver.remote.webelement.WebElement (session=\"d1d839a9b45c59c4142876ff09f7f4aa\", element=\"d08c9259-94ee-458d-ae00-60eaebc1ea98\")>,\n",
       " <selenium.webdriver.remote.webelement.WebElement (session=\"d1d839a9b45c59c4142876ff09f7f4aa\", element=\"ebca432f-0ede-4e5a-9efd-70f01bf1542c\")>,\n",
       " <selenium.webdriver.remote.webelement.WebElement (session=\"d1d839a9b45c59c4142876ff09f7f4aa\", element=\"d159feaa-480a-4f35-9371-03297d6ce319\")>,\n",
       " <selenium.webdriver.remote.webelement.WebElement (session=\"d1d839a9b45c59c4142876ff09f7f4aa\", element=\"49b27c42-3e86-47ef-bd5b-1407be9d93c4\")>,\n",
       " <selenium.webdriver.remote.webelement.WebElement (session=\"d1d839a9b45c59c4142876ff09f7f4aa\", element=\"f14e8fc6-1a15-44f4-bcb9-433a511c7893\")>,\n",
       " <selenium.webdriver.remote.webelement.WebElement (session=\"d1d839a9b45c59c4142876ff09f7f4aa\", element=\"e6ec247a-9f69-4896-a722-cf00464da508\")>,\n",
       " <selenium.webdriver.remote.webelement.WebElement (session=\"d1d839a9b45c59c4142876ff09f7f4aa\", element=\"13a6ab3c-38d0-420e-977e-b9f389482c0a\")>,\n",
       " <selenium.webdriver.remote.webelement.WebElement (session=\"d1d839a9b45c59c4142876ff09f7f4aa\", element=\"95c662d5-1bc6-455a-a6f6-b4c4a3c921f0\")>,\n",
       " <selenium.webdriver.remote.webelement.WebElement (session=\"d1d839a9b45c59c4142876ff09f7f4aa\", element=\"7bb1fbb3-d65a-4b46-acea-3a01df179b75\")>,\n",
       " <selenium.webdriver.remote.webelement.WebElement (session=\"d1d839a9b45c59c4142876ff09f7f4aa\", element=\"0d79d6e1-b928-4c4c-9813-ef339cf45507\")>,\n",
       " <selenium.webdriver.remote.webelement.WebElement (session=\"d1d839a9b45c59c4142876ff09f7f4aa\", element=\"e3e6a620-6deb-47b3-8ae2-7ddaabc7dd88\")>,\n",
       " <selenium.webdriver.remote.webelement.WebElement (session=\"d1d839a9b45c59c4142876ff09f7f4aa\", element=\"0f6d4142-0d20-4e7a-8490-ae6d1a4e2aa3\")>,\n",
       " <selenium.webdriver.remote.webelement.WebElement (session=\"d1d839a9b45c59c4142876ff09f7f4aa\", element=\"944f86f5-d06f-486a-9b6b-a07521a40b3f\")>,\n",
       " <selenium.webdriver.remote.webelement.WebElement (session=\"d1d839a9b45c59c4142876ff09f7f4aa\", element=\"db45cb62-0ba0-4fa5-9f9f-a3a2aaf35cf5\")>,\n",
       " <selenium.webdriver.remote.webelement.WebElement (session=\"d1d839a9b45c59c4142876ff09f7f4aa\", element=\"c161b983-fbd1-4c05-9b6b-318f5cf1b90a\")>,\n",
       " <selenium.webdriver.remote.webelement.WebElement (session=\"d1d839a9b45c59c4142876ff09f7f4aa\", element=\"88aa2643-ef2e-4799-bb65-b758618440d9\")>,\n",
       " <selenium.webdriver.remote.webelement.WebElement (session=\"d1d839a9b45c59c4142876ff09f7f4aa\", element=\"adf944eb-d8ad-4749-b464-e2ee1ef91a44\")>,\n",
       " <selenium.webdriver.remote.webelement.WebElement (session=\"d1d839a9b45c59c4142876ff09f7f4aa\", element=\"2dfca15e-2fc4-466c-83b4-5a2e684ba535\")>,\n",
       " <selenium.webdriver.remote.webelement.WebElement (session=\"d1d839a9b45c59c4142876ff09f7f4aa\", element=\"60a3c1aa-a9c2-4fd6-9d90-ae2d215d0f6a\")>,\n",
       " <selenium.webdriver.remote.webelement.WebElement (session=\"d1d839a9b45c59c4142876ff09f7f4aa\", element=\"8de1c562-7dc2-4bc9-9380-ad77eac83867\")>,\n",
       " <selenium.webdriver.remote.webelement.WebElement (session=\"d1d839a9b45c59c4142876ff09f7f4aa\", element=\"2995e9c3-baeb-482d-80fe-f0780e26fd24\")>,\n",
       " <selenium.webdriver.remote.webelement.WebElement (session=\"d1d839a9b45c59c4142876ff09f7f4aa\", element=\"c888fcab-eb22-48dd-8356-00baaeb365ad\")>,\n",
       " <selenium.webdriver.remote.webelement.WebElement (session=\"d1d839a9b45c59c4142876ff09f7f4aa\", element=\"ab8d6620-83e8-493a-a85a-2fc79596acd1\")>,\n",
       " <selenium.webdriver.remote.webelement.WebElement (session=\"d1d839a9b45c59c4142876ff09f7f4aa\", element=\"7e53e66b-82fa-4512-89c6-3f82322d729b\")>,\n",
       " <selenium.webdriver.remote.webelement.WebElement (session=\"d1d839a9b45c59c4142876ff09f7f4aa\", element=\"ba5175a7-a064-4d42-af7c-01d4222c9728\")>,\n",
       " <selenium.webdriver.remote.webelement.WebElement (session=\"d1d839a9b45c59c4142876ff09f7f4aa\", element=\"0dd5ac58-a23d-439b-b0b5-d63685270758\")>,\n",
       " <selenium.webdriver.remote.webelement.WebElement (session=\"d1d839a9b45c59c4142876ff09f7f4aa\", element=\"666fe111-bf8d-42e5-8a3e-fadef8b9630e\")>,\n",
       " <selenium.webdriver.remote.webelement.WebElement (session=\"d1d839a9b45c59c4142876ff09f7f4aa\", element=\"8e8ae503-240d-4724-9a48-359d4cf43749\")>,\n",
       " <selenium.webdriver.remote.webelement.WebElement (session=\"d1d839a9b45c59c4142876ff09f7f4aa\", element=\"a58db835-0ddd-41fd-a8e7-4ac768826205\")>,\n",
       " <selenium.webdriver.remote.webelement.WebElement (session=\"d1d839a9b45c59c4142876ff09f7f4aa\", element=\"e73f0df5-9d2b-4aa0-afcf-2be72dfaf497\")>,\n",
       " <selenium.webdriver.remote.webelement.WebElement (session=\"d1d839a9b45c59c4142876ff09f7f4aa\", element=\"11a7cf59-0f27-4565-8723-54f1232ae518\")>,\n",
       " <selenium.webdriver.remote.webelement.WebElement (session=\"d1d839a9b45c59c4142876ff09f7f4aa\", element=\"ec3ff242-7d89-4e7d-ae68-c98e7ed6aafc\")>,\n",
       " <selenium.webdriver.remote.webelement.WebElement (session=\"d1d839a9b45c59c4142876ff09f7f4aa\", element=\"188f1d6b-a995-4e56-81d9-8ec65616eba6\")>,\n",
       " <selenium.webdriver.remote.webelement.WebElement (session=\"d1d839a9b45c59c4142876ff09f7f4aa\", element=\"f88aa946-b941-46a2-b244-35e52c3765a6\")>,\n",
       " <selenium.webdriver.remote.webelement.WebElement (session=\"d1d839a9b45c59c4142876ff09f7f4aa\", element=\"9ce321b0-0e61-4f9f-b5cf-909aff691053\")>,\n",
       " <selenium.webdriver.remote.webelement.WebElement (session=\"d1d839a9b45c59c4142876ff09f7f4aa\", element=\"3a162460-48f5-4a66-82ac-ea60f13eb9ef\")>,\n",
       " <selenium.webdriver.remote.webelement.WebElement (session=\"d1d839a9b45c59c4142876ff09f7f4aa\", element=\"f42db835-027a-497b-8963-e3a3e77a786f\")>,\n",
       " <selenium.webdriver.remote.webelement.WebElement (session=\"d1d839a9b45c59c4142876ff09f7f4aa\", element=\"8183990e-08a0-4d76-9e89-68f0404fc70a\")>,\n",
       " <selenium.webdriver.remote.webelement.WebElement (session=\"d1d839a9b45c59c4142876ff09f7f4aa\", element=\"6d5b7cae-56be-4961-b63f-3611242cc5f8\")>,\n",
       " <selenium.webdriver.remote.webelement.WebElement (session=\"d1d839a9b45c59c4142876ff09f7f4aa\", element=\"1098b47b-cb59-453b-9443-47f0ff8b15e6\")>,\n",
       " <selenium.webdriver.remote.webelement.WebElement (session=\"d1d839a9b45c59c4142876ff09f7f4aa\", element=\"800eac53-6f0c-4fb3-bab1-6cc4095f9bee\")>,\n",
       " <selenium.webdriver.remote.webelement.WebElement (session=\"d1d839a9b45c59c4142876ff09f7f4aa\", element=\"0ea91186-50f1-485d-ba40-7cdecb6ff166\")>,\n",
       " <selenium.webdriver.remote.webelement.WebElement (session=\"d1d839a9b45c59c4142876ff09f7f4aa\", element=\"6956ad62-e62f-4f8a-a1e4-7c4cab987a17\")>,\n",
       " <selenium.webdriver.remote.webelement.WebElement (session=\"d1d839a9b45c59c4142876ff09f7f4aa\", element=\"68aef51c-4ea9-4828-a066-592188fd1b9b\")>,\n",
       " <selenium.webdriver.remote.webelement.WebElement (session=\"d1d839a9b45c59c4142876ff09f7f4aa\", element=\"b6710a80-5eee-4d44-8a6a-6746e9b7788e\")>,\n",
       " <selenium.webdriver.remote.webelement.WebElement (session=\"d1d839a9b45c59c4142876ff09f7f4aa\", element=\"84345d04-8c84-4dd9-9cc6-2f7681aae53e\")>,\n",
       " <selenium.webdriver.remote.webelement.WebElement (session=\"d1d839a9b45c59c4142876ff09f7f4aa\", element=\"170f07dc-4ae3-4511-994f-60ee0c49638f\")>,\n",
       " <selenium.webdriver.remote.webelement.WebElement (session=\"d1d839a9b45c59c4142876ff09f7f4aa\", element=\"e38e4ac9-d4d8-47fb-9253-e869062629fe\")>,\n",
       " <selenium.webdriver.remote.webelement.WebElement (session=\"d1d839a9b45c59c4142876ff09f7f4aa\", element=\"e3df4288-2080-461f-b2ed-355ec39474b7\")>,\n",
       " <selenium.webdriver.remote.webelement.WebElement (session=\"d1d839a9b45c59c4142876ff09f7f4aa\", element=\"72df39c3-7f46-43d5-86d0-b9fc70623a6f\")>,\n",
       " <selenium.webdriver.remote.webelement.WebElement (session=\"d1d839a9b45c59c4142876ff09f7f4aa\", element=\"46abda74-dd9c-4660-9045-d7d042954589\")>,\n",
       " <selenium.webdriver.remote.webelement.WebElement (session=\"d1d839a9b45c59c4142876ff09f7f4aa\", element=\"d036fc4d-c500-4308-bfe5-dc6395b2f3b7\")>,\n",
       " <selenium.webdriver.remote.webelement.WebElement (session=\"d1d839a9b45c59c4142876ff09f7f4aa\", element=\"9bee9c51-5248-4e3d-a498-200cb46d4872\")>,\n",
       " <selenium.webdriver.remote.webelement.WebElement (session=\"d1d839a9b45c59c4142876ff09f7f4aa\", element=\"e9164069-a403-4b70-8ee4-d5f4619e4773\")>,\n",
       " <selenium.webdriver.remote.webelement.WebElement (session=\"d1d839a9b45c59c4142876ff09f7f4aa\", element=\"55bb60be-4301-462b-9b75-22bc98ecc6a6\")>,\n",
       " <selenium.webdriver.remote.webelement.WebElement (session=\"d1d839a9b45c59c4142876ff09f7f4aa\", element=\"22b3f0ab-a30b-4799-b1c2-6df89a6f8027\")>,\n",
       " <selenium.webdriver.remote.webelement.WebElement (session=\"d1d839a9b45c59c4142876ff09f7f4aa\", element=\"cf64cf58-b221-48d4-a791-f040a6abbae3\")>,\n",
       " <selenium.webdriver.remote.webelement.WebElement (session=\"d1d839a9b45c59c4142876ff09f7f4aa\", element=\"7110c2af-05a7-49e0-b242-bfc275db35a4\")>,\n",
       " <selenium.webdriver.remote.webelement.WebElement (session=\"d1d839a9b45c59c4142876ff09f7f4aa\", element=\"d7697f3d-f69d-4b9b-963a-bb1eeaf20a04\")>,\n",
       " <selenium.webdriver.remote.webelement.WebElement (session=\"d1d839a9b45c59c4142876ff09f7f4aa\", element=\"00adcd86-c41a-4088-8b45-ffab2cf238a1\")>,\n",
       " <selenium.webdriver.remote.webelement.WebElement (session=\"d1d839a9b45c59c4142876ff09f7f4aa\", element=\"22522f79-d350-406b-80b5-46eb001aa7bc\")>,\n",
       " <selenium.webdriver.remote.webelement.WebElement (session=\"d1d839a9b45c59c4142876ff09f7f4aa\", element=\"15bfd5d1-5944-4dce-a2da-ce4d03ab49a4\")>,\n",
       " <selenium.webdriver.remote.webelement.WebElement (session=\"d1d839a9b45c59c4142876ff09f7f4aa\", element=\"08a217ed-8340-453d-b98e-89c2f4452b08\")>,\n",
       " <selenium.webdriver.remote.webelement.WebElement (session=\"d1d839a9b45c59c4142876ff09f7f4aa\", element=\"1fc6aa0f-a684-43d8-b5d6-0a0a45f3f6aa\")>,\n",
       " <selenium.webdriver.remote.webelement.WebElement (session=\"d1d839a9b45c59c4142876ff09f7f4aa\", element=\"0fb7cb71-0a14-46a0-80f7-b1e6b33b47f4\")>,\n",
       " <selenium.webdriver.remote.webelement.WebElement (session=\"d1d839a9b45c59c4142876ff09f7f4aa\", element=\"6de4e338-c208-489f-83b1-82b1b9c44ddf\")>,\n",
       " <selenium.webdriver.remote.webelement.WebElement (session=\"d1d839a9b45c59c4142876ff09f7f4aa\", element=\"2c2b4765-a1af-409a-b4d0-8d864774cff4\")>,\n",
       " <selenium.webdriver.remote.webelement.WebElement (session=\"d1d839a9b45c59c4142876ff09f7f4aa\", element=\"693d054b-470c-4079-a411-703e7e83818e\")>,\n",
       " <selenium.webdriver.remote.webelement.WebElement (session=\"d1d839a9b45c59c4142876ff09f7f4aa\", element=\"5cad3925-bd70-4e4c-b32f-fb8a8ffae7a2\")>,\n",
       " <selenium.webdriver.remote.webelement.WebElement (session=\"d1d839a9b45c59c4142876ff09f7f4aa\", element=\"a617611c-c2fa-4a14-abfd-df4cb9762ca3\")>,\n",
       " <selenium.webdriver.remote.webelement.WebElement (session=\"d1d839a9b45c59c4142876ff09f7f4aa\", element=\"78546da7-2709-4e1b-a5fb-91988bdd7311\")>]"
      ]
     },
     "execution_count": 35,
     "metadata": {},
     "output_type": "execute_result"
    }
   ],
   "source": [
    "price"
   ]
  },
  {
   "cell_type": "code",
   "execution_count": 13,
   "id": "029ba127",
   "metadata": {
    "scrolled": false
   },
   "outputs": [
    {
     "data": {
      "text/plain": [
       "'6,700'"
      ]
     },
     "execution_count": 13,
     "metadata": {},
     "output_type": "execute_result"
    }
   ],
   "source": [
    "price[0].text"
   ]
  },
  {
   "cell_type": "code",
   "execution_count": 34,
   "id": "b3827b05",
   "metadata": {
    "scrolled": true
   },
   "outputs": [
    {
     "data": {
      "text/plain": [
       "89"
      ]
     },
     "execution_count": 34,
     "metadata": {},
     "output_type": "execute_result"
    }
   ],
   "source": [
    "len(price)"
   ]
  },
  {
   "cell_type": "code",
   "execution_count": 28,
   "id": "ddff0028",
   "metadata": {
    "collapsed": true
   },
   "outputs": [
    {
     "ename": "ElementNotInteractableException",
     "evalue": "Message: element not interactable\n  (Session info: chrome=106.0.5249.91)\nStacktrace:\nBacktrace:\n\tOrdinal0 [0x00F61ED3+2236115]\n\tOrdinal0 [0x00EF92F1+1807089]\n\tOrdinal0 [0x00E065C0+812480]\n\tOrdinal0 [0x00E36586+1009030]\n\tOrdinal0 [0x00E2C416+967702]\n\tOrdinal0 [0x00E51A8C+1120908]\n\tOrdinal0 [0x00E2BD84+966020]\n\tOrdinal0 [0x00E51CA4+1121444]\n\tOrdinal0 [0x00E659E2+1202658]\n\tOrdinal0 [0x00E518A6+1120422]\n\tOrdinal0 [0x00E2A73D+960317]\n\tOrdinal0 [0x00E2B71F+964383]\n\tGetHandleVerifier [0x0120E7E2+2743074]\n\tGetHandleVerifier [0x012008D4+2685972]\n\tGetHandleVerifier [0x00FF2BAA+532202]\n\tGetHandleVerifier [0x00FF1990+527568]\n\tOrdinal0 [0x00F0080C+1837068]\n\tOrdinal0 [0x00F04CD8+1854680]\n\tOrdinal0 [0x00F04DC5+1854917]\n\tOrdinal0 [0x00F0ED64+1895780]\n\tBaseThreadInitThunk [0x76946739+25]\n\tRtlGetFullPathName_UEx [0x77408FD2+1218]\n\tRtlGetFullPathName_UEx [0x77408F9D+1165]\n",
     "output_type": "error",
     "traceback": [
      "\u001b[1;31m---------------------------------------------------------------------------\u001b[0m",
      "\u001b[1;31mElementNotInteractableException\u001b[0m           Traceback (most recent call last)",
      "Cell \u001b[1;32mIn [28], line 4\u001b[0m\n\u001b[0;32m      1\u001b[0m \u001b[38;5;66;03m# 더보기 버튼의 위치를 알려주기\u001b[39;00m\n\u001b[0;32m      2\u001b[0m \u001b[38;5;66;03m# 클릭하기 위해서\u001b[39;00m\n\u001b[0;32m      3\u001b[0m btnMore \u001b[38;5;241m=\u001b[39m driver\u001b[38;5;241m.\u001b[39mfind_element(By\u001b[38;5;241m.\u001b[39mCSS_SELECTOR, \u001b[38;5;124m\"\u001b[39m\u001b[38;5;124ma.c_05\u001b[39m\u001b[38;5;124m\"\u001b[39m)\n\u001b[1;32m----> 4\u001b[0m \u001b[43mbtnMore\u001b[49m\u001b[38;5;241;43m.\u001b[39;49m\u001b[43mclick\u001b[49m\u001b[43m(\u001b[49m\u001b[43m)\u001b[49m\n",
      "File \u001b[1;32mD:\\Python\\lib\\site-packages\\selenium\\webdriver\\remote\\webelement.py:88\u001b[0m, in \u001b[0;36mWebElement.click\u001b[1;34m(self)\u001b[0m\n\u001b[0;32m     86\u001b[0m \u001b[38;5;28;01mdef\u001b[39;00m \u001b[38;5;21mclick\u001b[39m(\u001b[38;5;28mself\u001b[39m) \u001b[38;5;241m-\u001b[39m\u001b[38;5;241m>\u001b[39m \u001b[38;5;28;01mNone\u001b[39;00m:\n\u001b[0;32m     87\u001b[0m     \u001b[38;5;124;03m\"\"\"Clicks the element.\"\"\"\u001b[39;00m\n\u001b[1;32m---> 88\u001b[0m     \u001b[38;5;28;43mself\u001b[39;49m\u001b[38;5;241;43m.\u001b[39;49m\u001b[43m_execute\u001b[49m\u001b[43m(\u001b[49m\u001b[43mCommand\u001b[49m\u001b[38;5;241;43m.\u001b[39;49m\u001b[43mCLICK_ELEMENT\u001b[49m\u001b[43m)\u001b[49m\n",
      "File \u001b[1;32mD:\\Python\\lib\\site-packages\\selenium\\webdriver\\remote\\webelement.py:396\u001b[0m, in \u001b[0;36mWebElement._execute\u001b[1;34m(self, command, params)\u001b[0m\n\u001b[0;32m    394\u001b[0m     params \u001b[38;5;241m=\u001b[39m {}\n\u001b[0;32m    395\u001b[0m params[\u001b[38;5;124m'\u001b[39m\u001b[38;5;124mid\u001b[39m\u001b[38;5;124m'\u001b[39m] \u001b[38;5;241m=\u001b[39m \u001b[38;5;28mself\u001b[39m\u001b[38;5;241m.\u001b[39m_id\n\u001b[1;32m--> 396\u001b[0m \u001b[38;5;28;01mreturn\u001b[39;00m \u001b[38;5;28;43mself\u001b[39;49m\u001b[38;5;241;43m.\u001b[39;49m\u001b[43m_parent\u001b[49m\u001b[38;5;241;43m.\u001b[39;49m\u001b[43mexecute\u001b[49m\u001b[43m(\u001b[49m\u001b[43mcommand\u001b[49m\u001b[43m,\u001b[49m\u001b[43m \u001b[49m\u001b[43mparams\u001b[49m\u001b[43m)\u001b[49m\n",
      "File \u001b[1;32mD:\\Python\\lib\\site-packages\\selenium\\webdriver\\remote\\webdriver.py:429\u001b[0m, in \u001b[0;36mWebDriver.execute\u001b[1;34m(self, driver_command, params)\u001b[0m\n\u001b[0;32m    427\u001b[0m response \u001b[38;5;241m=\u001b[39m \u001b[38;5;28mself\u001b[39m\u001b[38;5;241m.\u001b[39mcommand_executor\u001b[38;5;241m.\u001b[39mexecute(driver_command, params)\n\u001b[0;32m    428\u001b[0m \u001b[38;5;28;01mif\u001b[39;00m response:\n\u001b[1;32m--> 429\u001b[0m     \u001b[38;5;28;43mself\u001b[39;49m\u001b[38;5;241;43m.\u001b[39;49m\u001b[43merror_handler\u001b[49m\u001b[38;5;241;43m.\u001b[39;49m\u001b[43mcheck_response\u001b[49m\u001b[43m(\u001b[49m\u001b[43mresponse\u001b[49m\u001b[43m)\u001b[49m\n\u001b[0;32m    430\u001b[0m     response[\u001b[38;5;124m'\u001b[39m\u001b[38;5;124mvalue\u001b[39m\u001b[38;5;124m'\u001b[39m] \u001b[38;5;241m=\u001b[39m \u001b[38;5;28mself\u001b[39m\u001b[38;5;241m.\u001b[39m_unwrap_value(\n\u001b[0;32m    431\u001b[0m         response\u001b[38;5;241m.\u001b[39mget(\u001b[38;5;124m'\u001b[39m\u001b[38;5;124mvalue\u001b[39m\u001b[38;5;124m'\u001b[39m, \u001b[38;5;28;01mNone\u001b[39;00m))\n\u001b[0;32m    432\u001b[0m     \u001b[38;5;28;01mreturn\u001b[39;00m response\n",
      "File \u001b[1;32mD:\\Python\\lib\\site-packages\\selenium\\webdriver\\remote\\errorhandler.py:243\u001b[0m, in \u001b[0;36mErrorHandler.check_response\u001b[1;34m(self, response)\u001b[0m\n\u001b[0;32m    241\u001b[0m         alert_text \u001b[38;5;241m=\u001b[39m value[\u001b[38;5;124m'\u001b[39m\u001b[38;5;124malert\u001b[39m\u001b[38;5;124m'\u001b[39m]\u001b[38;5;241m.\u001b[39mget(\u001b[38;5;124m'\u001b[39m\u001b[38;5;124mtext\u001b[39m\u001b[38;5;124m'\u001b[39m)\n\u001b[0;32m    242\u001b[0m     \u001b[38;5;28;01mraise\u001b[39;00m exception_class(message, screen, stacktrace, alert_text)  \u001b[38;5;66;03m# type: ignore[call-arg]  # mypy is not smart enough here\u001b[39;00m\n\u001b[1;32m--> 243\u001b[0m \u001b[38;5;28;01mraise\u001b[39;00m exception_class(message, screen, stacktrace)\n",
      "\u001b[1;31mElementNotInteractableException\u001b[0m: Message: element not interactable\n  (Session info: chrome=106.0.5249.91)\nStacktrace:\nBacktrace:\n\tOrdinal0 [0x00F61ED3+2236115]\n\tOrdinal0 [0x00EF92F1+1807089]\n\tOrdinal0 [0x00E065C0+812480]\n\tOrdinal0 [0x00E36586+1009030]\n\tOrdinal0 [0x00E2C416+967702]\n\tOrdinal0 [0x00E51A8C+1120908]\n\tOrdinal0 [0x00E2BD84+966020]\n\tOrdinal0 [0x00E51CA4+1121444]\n\tOrdinal0 [0x00E659E2+1202658]\n\tOrdinal0 [0x00E518A6+1120422]\n\tOrdinal0 [0x00E2A73D+960317]\n\tOrdinal0 [0x00E2B71F+964383]\n\tGetHandleVerifier [0x0120E7E2+2743074]\n\tGetHandleVerifier [0x012008D4+2685972]\n\tGetHandleVerifier [0x00FF2BAA+532202]\n\tGetHandleVerifier [0x00FF1990+527568]\n\tOrdinal0 [0x00F0080C+1837068]\n\tOrdinal0 [0x00F04CD8+1854680]\n\tOrdinal0 [0x00F04DC5+1854917]\n\tOrdinal0 [0x00F0ED64+1895780]\n\tBaseThreadInitThunk [0x76946739+25]\n\tRtlGetFullPathName_UEx [0x77408FD2+1218]\n\tRtlGetFullPathName_UEx [0x77408F9D+1165]\n"
     ]
    }
   ],
   "source": [
    "# 더보기 버튼의 위치를 알려주기\n",
    "# 클릭하기 위해서\n",
    "btnMore = driver.find_element(By.CSS_SELECTOR, \"a.c_05\")\n",
    "btnMore.click()"
   ]
  },
  {
   "cell_type": "markdown",
   "id": "9e52a3a3",
   "metadata": {},
   "source": [
    "수동으로 '더보기' 버튼을 계속 누를 수는 없다 !\n",
    "    -> for문으로 자동화 해주자"
   ]
  },
  {
   "cell_type": "code",
   "execution_count": 27,
   "id": "aed12595",
   "metadata": {
    "collapsed": true
   },
   "outputs": [
    {
     "ename": "ElementNotInteractableException",
     "evalue": "Message: element not interactable\n  (Session info: chrome=106.0.5249.91)\nStacktrace:\nBacktrace:\n\tOrdinal0 [0x00F61ED3+2236115]\n\tOrdinal0 [0x00EF92F1+1807089]\n\tOrdinal0 [0x00E065C0+812480]\n\tOrdinal0 [0x00E36586+1009030]\n\tOrdinal0 [0x00E2C416+967702]\n\tOrdinal0 [0x00E51A8C+1120908]\n\tOrdinal0 [0x00E2BD84+966020]\n\tOrdinal0 [0x00E51CA4+1121444]\n\tOrdinal0 [0x00E659E2+1202658]\n\tOrdinal0 [0x00E518A6+1120422]\n\tOrdinal0 [0x00E2A73D+960317]\n\tOrdinal0 [0x00E2B71F+964383]\n\tGetHandleVerifier [0x0120E7E2+2743074]\n\tGetHandleVerifier [0x012008D4+2685972]\n\tGetHandleVerifier [0x00FF2BAA+532202]\n\tGetHandleVerifier [0x00FF1990+527568]\n\tOrdinal0 [0x00F0080C+1837068]\n\tOrdinal0 [0x00F04CD8+1854680]\n\tOrdinal0 [0x00F04DC5+1854917]\n\tOrdinal0 [0x00F0ED64+1895780]\n\tBaseThreadInitThunk [0x76946739+25]\n\tRtlGetFullPathName_UEx [0x77408FD2+1218]\n\tRtlGetFullPathName_UEx [0x77408F9D+1165]\n",
     "output_type": "error",
     "traceback": [
      "\u001b[1;31m---------------------------------------------------------------------------\u001b[0m",
      "\u001b[1;31mElementNotInteractableException\u001b[0m           Traceback (most recent call last)",
      "Cell \u001b[1;32mIn [27], line 3\u001b[0m\n\u001b[0;32m      1\u001b[0m \u001b[38;5;28;01mfor\u001b[39;00m i \u001b[38;5;129;01min\u001b[39;00m \u001b[38;5;28mrange\u001b[39m(\u001b[38;5;241m10\u001b[39m):\n\u001b[0;32m      2\u001b[0m     btnMore \u001b[38;5;241m=\u001b[39m driver\u001b[38;5;241m.\u001b[39mfind_element(By\u001b[38;5;241m.\u001b[39mCSS_SELECTOR, \u001b[38;5;124m\"\u001b[39m\u001b[38;5;124ma.c_05\u001b[39m\u001b[38;5;124m\"\u001b[39m)\n\u001b[1;32m----> 3\u001b[0m     \u001b[43mbtnMore\u001b[49m\u001b[38;5;241;43m.\u001b[39;49m\u001b[43mclick\u001b[49m\u001b[43m(\u001b[49m\u001b[43m)\u001b[49m\n\u001b[0;32m      4\u001b[0m     time\u001b[38;5;241m.\u001b[39msleep(\u001b[38;5;241m2\u001b[39m)\n",
      "File \u001b[1;32mD:\\Python\\lib\\site-packages\\selenium\\webdriver\\remote\\webelement.py:88\u001b[0m, in \u001b[0;36mWebElement.click\u001b[1;34m(self)\u001b[0m\n\u001b[0;32m     86\u001b[0m \u001b[38;5;28;01mdef\u001b[39;00m \u001b[38;5;21mclick\u001b[39m(\u001b[38;5;28mself\u001b[39m) \u001b[38;5;241m-\u001b[39m\u001b[38;5;241m>\u001b[39m \u001b[38;5;28;01mNone\u001b[39;00m:\n\u001b[0;32m     87\u001b[0m     \u001b[38;5;124;03m\"\"\"Clicks the element.\"\"\"\u001b[39;00m\n\u001b[1;32m---> 88\u001b[0m     \u001b[38;5;28;43mself\u001b[39;49m\u001b[38;5;241;43m.\u001b[39;49m\u001b[43m_execute\u001b[49m\u001b[43m(\u001b[49m\u001b[43mCommand\u001b[49m\u001b[38;5;241;43m.\u001b[39;49m\u001b[43mCLICK_ELEMENT\u001b[49m\u001b[43m)\u001b[49m\n",
      "File \u001b[1;32mD:\\Python\\lib\\site-packages\\selenium\\webdriver\\remote\\webelement.py:396\u001b[0m, in \u001b[0;36mWebElement._execute\u001b[1;34m(self, command, params)\u001b[0m\n\u001b[0;32m    394\u001b[0m     params \u001b[38;5;241m=\u001b[39m {}\n\u001b[0;32m    395\u001b[0m params[\u001b[38;5;124m'\u001b[39m\u001b[38;5;124mid\u001b[39m\u001b[38;5;124m'\u001b[39m] \u001b[38;5;241m=\u001b[39m \u001b[38;5;28mself\u001b[39m\u001b[38;5;241m.\u001b[39m_id\n\u001b[1;32m--> 396\u001b[0m \u001b[38;5;28;01mreturn\u001b[39;00m \u001b[38;5;28;43mself\u001b[39;49m\u001b[38;5;241;43m.\u001b[39;49m\u001b[43m_parent\u001b[49m\u001b[38;5;241;43m.\u001b[39;49m\u001b[43mexecute\u001b[49m\u001b[43m(\u001b[49m\u001b[43mcommand\u001b[49m\u001b[43m,\u001b[49m\u001b[43m \u001b[49m\u001b[43mparams\u001b[49m\u001b[43m)\u001b[49m\n",
      "File \u001b[1;32mD:\\Python\\lib\\site-packages\\selenium\\webdriver\\remote\\webdriver.py:429\u001b[0m, in \u001b[0;36mWebDriver.execute\u001b[1;34m(self, driver_command, params)\u001b[0m\n\u001b[0;32m    427\u001b[0m response \u001b[38;5;241m=\u001b[39m \u001b[38;5;28mself\u001b[39m\u001b[38;5;241m.\u001b[39mcommand_executor\u001b[38;5;241m.\u001b[39mexecute(driver_command, params)\n\u001b[0;32m    428\u001b[0m \u001b[38;5;28;01mif\u001b[39;00m response:\n\u001b[1;32m--> 429\u001b[0m     \u001b[38;5;28;43mself\u001b[39;49m\u001b[38;5;241;43m.\u001b[39;49m\u001b[43merror_handler\u001b[49m\u001b[38;5;241;43m.\u001b[39;49m\u001b[43mcheck_response\u001b[49m\u001b[43m(\u001b[49m\u001b[43mresponse\u001b[49m\u001b[43m)\u001b[49m\n\u001b[0;32m    430\u001b[0m     response[\u001b[38;5;124m'\u001b[39m\u001b[38;5;124mvalue\u001b[39m\u001b[38;5;124m'\u001b[39m] \u001b[38;5;241m=\u001b[39m \u001b[38;5;28mself\u001b[39m\u001b[38;5;241m.\u001b[39m_unwrap_value(\n\u001b[0;32m    431\u001b[0m         response\u001b[38;5;241m.\u001b[39mget(\u001b[38;5;124m'\u001b[39m\u001b[38;5;124mvalue\u001b[39m\u001b[38;5;124m'\u001b[39m, \u001b[38;5;28;01mNone\u001b[39;00m))\n\u001b[0;32m    432\u001b[0m     \u001b[38;5;28;01mreturn\u001b[39;00m response\n",
      "File \u001b[1;32mD:\\Python\\lib\\site-packages\\selenium\\webdriver\\remote\\errorhandler.py:243\u001b[0m, in \u001b[0;36mErrorHandler.check_response\u001b[1;34m(self, response)\u001b[0m\n\u001b[0;32m    241\u001b[0m         alert_text \u001b[38;5;241m=\u001b[39m value[\u001b[38;5;124m'\u001b[39m\u001b[38;5;124malert\u001b[39m\u001b[38;5;124m'\u001b[39m]\u001b[38;5;241m.\u001b[39mget(\u001b[38;5;124m'\u001b[39m\u001b[38;5;124mtext\u001b[39m\u001b[38;5;124m'\u001b[39m)\n\u001b[0;32m    242\u001b[0m     \u001b[38;5;28;01mraise\u001b[39;00m exception_class(message, screen, stacktrace, alert_text)  \u001b[38;5;66;03m# type: ignore[call-arg]  # mypy is not smart enough here\u001b[39;00m\n\u001b[1;32m--> 243\u001b[0m \u001b[38;5;28;01mraise\u001b[39;00m exception_class(message, screen, stacktrace)\n",
      "\u001b[1;31mElementNotInteractableException\u001b[0m: Message: element not interactable\n  (Session info: chrome=106.0.5249.91)\nStacktrace:\nBacktrace:\n\tOrdinal0 [0x00F61ED3+2236115]\n\tOrdinal0 [0x00EF92F1+1807089]\n\tOrdinal0 [0x00E065C0+812480]\n\tOrdinal0 [0x00E36586+1009030]\n\tOrdinal0 [0x00E2C416+967702]\n\tOrdinal0 [0x00E51A8C+1120908]\n\tOrdinal0 [0x00E2BD84+966020]\n\tOrdinal0 [0x00E51CA4+1121444]\n\tOrdinal0 [0x00E659E2+1202658]\n\tOrdinal0 [0x00E518A6+1120422]\n\tOrdinal0 [0x00E2A73D+960317]\n\tOrdinal0 [0x00E2B71F+964383]\n\tGetHandleVerifier [0x0120E7E2+2743074]\n\tGetHandleVerifier [0x012008D4+2685972]\n\tGetHandleVerifier [0x00FF2BAA+532202]\n\tGetHandleVerifier [0x00FF1990+527568]\n\tOrdinal0 [0x00F0080C+1837068]\n\tOrdinal0 [0x00F04CD8+1854680]\n\tOrdinal0 [0x00F04DC5+1854917]\n\tOrdinal0 [0x00F0ED64+1895780]\n\tBaseThreadInitThunk [0x76946739+25]\n\tRtlGetFullPathName_UEx [0x77408FD2+1218]\n\tRtlGetFullPathName_UEx [0x77408F9D+1165]\n"
     ]
    }
   ],
   "source": [
    "for i in range(10):\n",
    "    btnMore = driver.find_element(By.CSS_SELECTOR, \"a.c_05\")\n",
    "    btnMore.click()\n",
    "    time.sleep(2)"
   ]
  },
  {
   "cell_type": "markdown",
   "id": "b4abc1a1",
   "metadata": {},
   "source": [
    "몇 번 '더보기'가 있을지 몰라 넉넉히 10번 반복하도록 했더니 ??\n",
    "\n",
    "-> 더 이상 '더보기' 버튼을 누를 게 없을 때 Error 발생.. \n",
    "\n",
    "# -> 예외처리\n",
    "- 오류가 나기 전까지 코드를 시도\n",
    "- 오류가 나면 오류 코드가 아닌 다른 로직을 실행\n",
    "- try, except 구문"
   ]
  },
  {
   "cell_type": "code",
   "execution_count": 29,
   "id": "10b322ea",
   "metadata": {},
   "outputs": [
    {
     "name": "stdout",
     "output_type": "stream",
     "text": [
      "더보기 버튼이 존재하지 않습니다\n"
     ]
    }
   ],
   "source": [
    "try :\n",
    "    # 에러가 나기전까지 시도할 로직\n",
    "    for i in range(10):\n",
    "        btnMore = driver.find_element(By.CSS_SELECTOR, \"a.c_05\")\n",
    "        btnMore.click()\n",
    "        time.sleep(2)\n",
    "except :\n",
    "    # 에러가 났을 때 실행될 로직\n",
    "    print(\"더보기 버튼이 존재하지 않습니다\")"
   ]
  },
  {
   "cell_type": "code",
   "execution_count": 37,
   "id": "c024338c",
   "metadata": {},
   "outputs": [],
   "source": [
    "# title, price 리스트 제작 완료\n",
    "# 비어있는 리스트에 순수한 텍스트 정보만 저장\n",
    "titleList = []\n",
    "priceList = []\n",
    "for i in range(len(title)):\n",
    "    titleList.append(title[i].text)\n",
    "    priceList.append(price[i].text)"
   ]
  },
  {
   "cell_type": "code",
   "execution_count": 38,
   "id": "87ff76be",
   "metadata": {
    "collapsed": true
   },
   "outputs": [
    {
     "data": {
      "text/plain": [
       "['더블함박',\n",
       " '해바라기',\n",
       " '데미햄버그 불고기 파스타',\n",
       " '데미햄버그 불고기 덮밥',\n",
       " '핫 치즈 닭갈비덮밥',\n",
       " '오리지널 치즈 닭갈비덮밥',\n",
       " '매화(순살 고등어 간장구이)',\n",
       " '진달래',\n",
       " '개나리(순살 고등어 간장구이)',\n",
       " '돈까스도련님고기고기',\n",
       " '탕수육도련님고기고기',\n",
       " '새치 고기고기',\n",
       " '돈치 고기고기',\n",
       " '오븐구이 오리도시락',\n",
       " '숯불직화구이',\n",
       " '소불고기',\n",
       " '메가치킨제육',\n",
       " '칠리 찹쌀탕수육도련님',\n",
       " '동백',\n",
       " '치킨제육',\n",
       " '돈까스도련님',\n",
       " '제육볶음',\n",
       " '돈치스팸 도시락',\n",
       " '제육 김치찌개 정식',\n",
       " '제육 김치 부대찌개 정식',\n",
       " '돈치스팸 김치 부대찌개 정식',\n",
       " '빅치킨마요 김치 부대찌개 정식',\n",
       " '치킨마요 김치 부대찌개 정식',\n",
       " '빅치킨마요 김치찌개 정식',\n",
       " '치킨마요 김치찌개 정식',\n",
       " '메가스팸마요',\n",
       " '스팸마요',\n",
       " '메가치킨마요',\n",
       " '왕치킨마요',\n",
       " '빅치킨마요',\n",
       " '치킨마요',\n",
       " '참치마요',\n",
       " '돈치마요',\n",
       " '돈까스 카레',\n",
       " '스팸 김치볶음밥',\n",
       " '김치볶음밥',\n",
       " '스팸철판볶음밥',\n",
       " '소불고기 철판볶음밥',\n",
       " '나시고랭',\n",
       " '묵은지 김치찌개',\n",
       " '김치 부대찌개',\n",
       " '숯불직화구이 덮밥',\n",
       " '마파두부 덮밥',\n",
       " '왕카레돈까스덮밥',\n",
       " '새우돈까스 덮밥',\n",
       " '돈까스 덮밥',\n",
       " '소불고기 감초고추장 비빔밥',\n",
       " '시골제육 두부강된장 비빔밥',\n",
       " '참치야채 감초고추장',\n",
       " '튼튼도시락',\n",
       " '토네이도 소세지 파스타',\n",
       " '트리플 치즈 파스타',\n",
       " '토마토 미트 파스타',\n",
       " '반찬 계란말이',\n",
       " '반찬 묵은지김치찌개',\n",
       " '반찬 카레',\n",
       " '반찬 순살 고등어데리야끼',\n",
       " '반찬 김치 부대찌개',\n",
       " '반찬 치킨',\n",
       " '반찬 고기고기',\n",
       " '반찬 돈까스 도련님',\n",
       " '반찬 제육볶음',\n",
       " '반찬 토네이도 소세지',\n",
       " '반찬 반달돈까스',\n",
       " '뉴 감자고로케',\n",
       " '미니 찹쌀핫도그',\n",
       " '미니 찹쌀탕수육',\n",
       " '케이준후라이',\n",
       " '후라이드 순살(소)_스리라차마요소스',\n",
       " '후라이드 순살(중)',\n",
       " '후라이드 순살(소)_양념치킨소스',\n",
       " '후라이드 순살(소)_케이준소스',\n",
       " '오리지널 닭강정(중)',\n",
       " '오리지널 닭강정(소)',\n",
       " '오징어젓갈',\n",
       " '한솥 두부강된장소스',\n",
       " '한솥 감초볶음고추장소스',\n",
       " '볶음김치',\n",
       " '김치',\n",
       " '무말랭이 무침',\n",
       " '한솥밥',\n",
       " '현미밥',\n",
       " '리얼 티라미수 찰떡',\n",
       " '리얼꿀 미니호떡']"
      ]
     },
     "execution_count": 38,
     "metadata": {},
     "output_type": "execute_result"
    }
   ],
   "source": [
    "titleList"
   ]
  },
  {
   "cell_type": "code",
   "execution_count": 39,
   "id": "d1f68294",
   "metadata": {
    "collapsed": true
   },
   "outputs": [
    {
     "data": {
      "text/plain": [
       "['6,700',\n",
       " '10,000',\n",
       " '5,200',\n",
       " '4,800',\n",
       " '5,900',\n",
       " '5,900',\n",
       " '10,000',\n",
       " '7,500',\n",
       " '8,500',\n",
       " '6,000',\n",
       " '5,800',\n",
       " '6,700',\n",
       " '5,800',\n",
       " '6,900',\n",
       " '6,500',\n",
       " '5,400',\n",
       " '7,000',\n",
       " '4,200',\n",
       " '5,800',\n",
       " '4,700',\n",
       " '4,500',\n",
       " '4,200',\n",
       " '4,900',\n",
       " '8,200',\n",
       " '8,500',\n",
       " '8,500',\n",
       " '7,500',\n",
       " '6,900',\n",
       " '7,000',\n",
       " '6,500',\n",
       " '5,600',\n",
       " '3,700',\n",
       " '5,800',\n",
       " '4,800',\n",
       " '4,100',\n",
       " '3,500',\n",
       " '3,200',\n",
       " '3,800',\n",
       " '4,500',\n",
       " '4,700',\n",
       " '3,900',\n",
       " '4,500',\n",
       " '4,700',\n",
       " '6,000',\n",
       " '4,500',\n",
       " '5,800',\n",
       " '5,900',\n",
       " '5,000',\n",
       " '5,900',\n",
       " '4,100',\n",
       " '4,000',\n",
       " '5,200',\n",
       " '5,000',\n",
       " '3,300',\n",
       " '5,000',\n",
       " '5,500',\n",
       " '5,500',\n",
       " '4,500',\n",
       " '2,500',\n",
       " '4,000',\n",
       " '2,800',\n",
       " '3,900',\n",
       " '4,500',\n",
       " '3,600',\n",
       " '3,400',\n",
       " '3,800',\n",
       " '3,200',\n",
       " '2,600',\n",
       " '2,800',\n",
       " '2,700',\n",
       " '2,500',\n",
       " '2,200',\n",
       " '1,700',\n",
       " '4,000',\n",
       " '7,500',\n",
       " '4,000',\n",
       " '4,000',\n",
       " '8,000',\n",
       " '3,400',\n",
       " '500',\n",
       " '1,800',\n",
       " '500',\n",
       " '500',\n",
       " '400',\n",
       " '400',\n",
       " '1,000',\n",
       " '1,700',\n",
       " '1,500',\n",
       " '2,200']"
      ]
     },
     "execution_count": 39,
     "metadata": {},
     "output_type": "execute_result"
    }
   ],
   "source": [
    "priceList"
   ]
  },
  {
   "cell_type": "code",
   "execution_count": 40,
   "id": "039cb9ed",
   "metadata": {},
   "outputs": [],
   "source": [
    "data = {\"메뉴명\" : titleList, \"가격\" : priceList}"
   ]
  },
  {
   "cell_type": "code",
   "execution_count": 42,
   "id": "b62357a9",
   "metadata": {},
   "outputs": [],
   "source": [
    "food = pd.DataFrame(data)"
   ]
  },
  {
   "cell_type": "code",
   "execution_count": 43,
   "id": "4a687ac9",
   "metadata": {},
   "outputs": [],
   "source": [
    "food.to_csv(\"한솥.csv\",encoding=\"euc-kr\")"
   ]
  }
 ],
 "metadata": {
  "kernelspec": {
   "display_name": "Python 3 (ipykernel)",
   "language": "python",
   "name": "python3"
  },
  "language_info": {
   "codemirror_mode": {
    "name": "ipython",
    "version": 3
   },
   "file_extension": ".py",
   "mimetype": "text/x-python",
   "name": "python",
   "nbconvert_exporter": "python",
   "pygments_lexer": "ipython3",
   "version": "3.10.7"
  }
 },
 "nbformat": 4,
 "nbformat_minor": 5
}
